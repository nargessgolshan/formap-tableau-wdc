{
 "cells": [
  {
   "cell_type": "code",
   "execution_count": null,
   "metadata": {
    "scrolled": true
   },
   "outputs": [],
   "source": [
    "# input a path to download and unzip files:\n",
    "import os\n",
    "os.chdir(r'E:\\GoogleDrive\\Teaching\\OATP\\FormAP')\n",
    "path=r\"E:\\GoogleDrive\\Teaching\\OATP\\FormAP\""
   ]
  },
  {
   "cell_type": "code",
   "execution_count": null,
   "metadata": {},
   "outputs": [],
   "source": [
    "#imprting required libraries\n",
    "import pandas as pd\n",
    "import numpy as np\n",
    "import requests\n",
    "import os\n",
    "import zipfile\n",
    "import jupytab\n",
    "import json\n",
    "from urllib.request import urlopen"
   ]
  },
  {
   "cell_type": "code",
   "execution_count": null,
   "metadata": {},
   "outputs": [],
   "source": [
    "path2=path+\"\\\\Firm Filings.zip\"\n",
    "path3=path+\"\\\\Firm Filings\""
   ]
  },
  {
   "cell_type": "code",
   "execution_count": null,
   "metadata": {},
   "outputs": [],
   "source": [
    "#function to download the file\n",
    "\n",
    "def download_url(url, save_path, chunk_size=128):\n",
    "    r = requests.get(url, stream=True)\n",
    "    with open(save_path, 'wb') as fd:\n",
    "        for chunk in r.iter_content(chunk_size=chunk_size):\n",
    "            fd.write(chunk)\n",
    "download_url(\"https://pcaobus.org/assets/PCAOBFiles/FirmFilings.zip\",path2)"
   ]
  },
  {
   "cell_type": "code",
   "execution_count": null,
   "metadata": {},
   "outputs": [],
   "source": [
    "#unzip the file\n",
    "with zipfile.ZipFile(path2, 'r') as zip_ref:\n",
    "    zip_ref.extractall(path3)"
   ]
  },
  {
   "cell_type": "code",
   "execution_count": null,
   "metadata": {},
   "outputs": [],
   "source": [
    "form_aps=pd.read_csv(path3+\"\\FirmFilings.csv\",parse_dates=['Signed Date','Audit Report Date','Fiscal Period End Date','Filing Date'], low_memory=False)"
   ]
  },
  {
   "cell_type": "code",
   "execution_count": null,
   "metadata": {},
   "outputs": [],
   "source": [
    "# excluding amendment filings\n",
    "form_aps2=form_aps[((form_aps['Amendment Firm Identification']==False) | (form_aps['Amendment Firm Identification'].isnull()))\n",
    "                   & ((form_aps['Amendment Audit Report']==False) | (form_aps['Amendment Audit Report'].isnull()) )\n",
    "                   & ((form_aps['Amendment Other Firms']==False) | (form_aps['Amendment Other Firms'].isnull()) )\n",
    "                   & ((form_aps['Amendment Divided Responsibility']==False) | (form_aps['Amendment Divided Responsibility'].isnull()))\n",
    "                   & ((form_aps['Amendment Participants > 5%']==False) | (form_aps['Amendment Participants > 5%'].isnull()) )\n",
    "                   & ((form_aps['Amendment Participants < 5%']==False) | (form_aps['Amendment Participants < 5%'].isnull()) )\n",
    "                   & ((form_aps['Amendment Audit Divided']==False) | (form_aps['Amendment Audit Divided'].isnull() ) )\n",
    "                   & ((form_aps['Amendment Certified Firm']==False) | (form_aps['Amendment Certified Firm'].isnull())) \n",
    "                     & (form_aps['Is Multiple Audit Period']==False ) & (form_aps['Is Audit Divided']==False)]"
   ]
  },
  {
   "cell_type": "code",
   "execution_count": null,
   "metadata": {},
   "outputs": [],
   "source": [
    "form_aps2=form_aps2[form_aps2['Audit Report Type']==\"Issuer, other than Employee Benefit Plan or Investment Company\"]  "
   ]
  },
  {
   "cell_type": "code",
   "execution_count": null,
   "metadata": {},
   "outputs": [],
   "source": [
    "#non missing ciks\n",
    "form_aps2=form_aps2[(form_aps2['Issuer CIK'].notnull())]"
   ]
  },
  {
   "cell_type": "code",
   "execution_count": null,
   "metadata": {},
   "outputs": [],
   "source": [
    "#dropping duplicates or children of a parent company\n",
    "form_aps2.sort_values(by=['Issuer CIK','Fiscal Period End Date'],inplace=True)\n",
    "form_aps2.drop_duplicates(subset=['Issuer CIK','Fiscal Period End Date'], keep=\"last\",inplace=True)\n",
    "form_aps2.sort_values(by=['Issuer Ticker','Fiscal Period End Date'],inplace=True)\n",
    "form_aps2.drop_duplicates(subset=['Issuer Ticker','Fiscal Period End Date'], keep=\"last\",inplace=True)"
   ]
  },
  {
   "cell_type": "code",
   "execution_count": null,
   "metadata": {},
   "outputs": [],
   "source": [
    "form_aps2['Issuer CIK'] = form_aps2['Issuer CIK'].apply(lambda x: str(int(x)).zfill(10))"
   ]
  },
  {
   "cell_type": "code",
   "execution_count": null,
   "metadata": {},
   "outputs": [],
   "source": [
    "form_aps2=form_aps2[['Form Filing ID','Firm ID','Firm Name','Firm Country',\n",
    "                              'Issuer CIK','Audit Report Date','Fiscal Period End Date',\n",
    "                              'Engagement Partner Last Name','Engagement Partner First Name',\n",
    "                              'Engagement Partner Middle Name','Engagement Partner Suffix','Engagement Partner ID',\n",
    "                              'Firm Issuing Country','Firm Issuing City','Firm Issuing State','Filing Date']]\n",
    "form_aps2.reset_index(drop=True,inplace=True)\n",
    "form_aps2['Form Filing ID']=form_aps2['Form Filing ID'].astype(str)\n",
    "form_aps2['Firm ID']=form_aps2['Firm ID'].astype(str)\n"
   ]
  },
  {
   "cell_type": "code",
   "execution_count": null,
   "metadata": {},
   "outputs": [],
   "source": [
    "len(form_aps2)"
   ]
  },
  {
   "cell_type": "code",
   "execution_count": null,
   "metadata": {},
   "outputs": [],
   "source": [
    "tables = jupytab.Tables()\n",
    "tables['FormAP_Filings'] = jupytab.DataFrameTable('Form AP Filings', form_aps2,include_index=False)\n"
   ]
  },
  {
   "cell_type": "code",
   "execution_count": null,
   "metadata": {},
   "outputs": [],
   "source": [
    "# GET /schema\n",
    "tables.render_schema()"
   ]
  },
  {
   "cell_type": "code",
   "execution_count": null,
   "metadata": {},
   "outputs": [],
   "source": [
    "# GET /data\n",
    "try:\n",
    "    tables.render_data(REQUEST)\n",
    "except NameError:\n",
    "    print(\"Not available outside jupytab context\")"
   ]
  },
  {
   "cell_type": "code",
   "execution_count": null,
   "metadata": {},
   "outputs": [],
   "source": []
  }
 ],
 "metadata": {
  "kernelspec": {
   "display_name": "jupytab-simulation-demo",
   "language": "python",
   "name": "jupytab-simulation-demo"
  },
  "language_info": {
   "codemirror_mode": {
    "name": "ipython",
    "version": 3
   },
   "file_extension": ".py",
   "mimetype": "text/x-python",
   "name": "python",
   "nbconvert_exporter": "python",
   "pygments_lexer": "ipython3",
   "version": "3.7.11"
  },
  "varInspector": {
   "cols": {
    "lenName": 16,
    "lenType": 16,
    "lenVar": 40
   },
   "kernels_config": {
    "python": {
     "delete_cmd_postfix": "",
     "delete_cmd_prefix": "del ",
     "library": "var_list.py",
     "varRefreshCmd": "print(var_dic_list())"
    },
    "r": {
     "delete_cmd_postfix": ") ",
     "delete_cmd_prefix": "rm(",
     "library": "var_list.r",
     "varRefreshCmd": "cat(var_dic_list()) "
    }
   },
   "types_to_exclude": [
    "module",
    "function",
    "builtin_function_or_method",
    "instance",
    "_Feature"
   ],
   "window_display": false
  }
 },
 "nbformat": 4,
 "nbformat_minor": 5
}
